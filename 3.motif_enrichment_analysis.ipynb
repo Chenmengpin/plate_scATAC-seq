{
 "cells": [
  {
   "cell_type": "code",
   "execution_count": null,
   "metadata": {},
   "outputs": [],
   "source": [
    "%matplotlib inline\n",
    "\n",
    "import glob\n",
    "import numpy as np\n",
    "import pandas as pd\n",
    "import seaborn as sns\n",
    "import matplotlib.pyplot as plt\n",
    "import matplotlib.gridspec as gridspec\n",
    "from scipy.cluster.hierarchy import dendrogram"
   ]
  },
  {
   "cell_type": "code",
   "execution_count": null,
   "metadata": {},
   "outputs": [],
   "source": [
    "motifs = glob.glob('mSp_scATAC-seq/homer_motifs/*_homer_knownResults.txt')\n",
    "\n",
    "dfs = []\n",
    "\n",
    "for m in motifs:\n",
    "    cell = (m.split('/')[-1]\n",
    "             .split('_')[1])\n",
    "    en_mtf = pd.read_table(m)\n",
    "    en_mtf = en_mtf[en_mtf['P-value'] < 1e-20]\n",
    "    df = pd.DataFrame(data=en_mtf['P-value'].values,\n",
    "                      columns=['cluster_{}'.format(cell)],\n",
    "                      index=en_mtf['Motif Name'])\n",
    "    dfs.append(df)\n",
    "\n",
    "mtf_mtx = pd.concat(dfs, axis=1, join='outer')"
   ]
  },
  {
   "cell_type": "code",
   "execution_count": null,
   "metadata": {},
   "outputs": [],
   "source": [
    "mtf_mtx.shape"
   ]
  },
  {
   "cell_type": "code",
   "execution_count": null,
   "metadata": {},
   "outputs": [],
   "source": [
    "rename = {}\n",
    "\n",
    "for i in mtf_mtx.index.values:\n",
    "    rename[i] = i.split('/')[0]\n",
    "\n",
    "mtf_mtx.rename(index=rename, inplace=True)\n",
    "mtf_mtx.head(2)"
   ]
  },
  {
   "cell_type": "code",
   "execution_count": null,
   "metadata": {},
   "outputs": [],
   "source": [
    "mtf_mtx.fillna(1, inplace=True)\n",
    "mtf_mtx = -1 * mtf_mtx.apply(np.log)"
   ]
  },
  {
   "cell_type": "code",
   "execution_count": null,
   "metadata": {},
   "outputs": [],
   "source": [
    "mtf_mtx = mtf_mtx.loc[:,['cluster_{}'.format(i) for i in range(12)]]\n",
    "mtf_mtx.head()"
   ]
  },
  {
   "cell_type": "code",
   "execution_count": null,
   "metadata": {},
   "outputs": [],
   "source": [
    "color12 = ['#a6cee3', '#333333', '#b2df8a', '#33a02c',\n",
    "           '#fb9a99', '#e31a1c', '#fdbf6f', '#ff7f00',\n",
    "           '#cab2d6', '#6a3d9a', '#1f78b4', '#b15928']"
   ]
  },
  {
   "cell_type": "code",
   "execution_count": null,
   "metadata": {},
   "outputs": [],
   "source": [
    "hcl = sns.clustermap(mtf_mtx, cmap='YlOrRd', vmin=0, vmax=130, figsize=(8,30),\n",
    "                     linewidths=0, linecolor=None, rasterized=True,\n",
    "                     cbar_kws={'label' : '-log P-value'},\n",
    "                     col_colors=color12)\n",
    "\n",
    "yts = hcl.ax_heatmap.get_yticklabels()\n",
    "for yt in yts:\n",
    "    yt.set_fontsize(15)\n",
    "\n",
    "xts = hcl.ax_heatmap.get_xticklabels()\n",
    "for xt in xts:\n",
    "    xt.set_fontsize(15)\n",
    "    xt.set_rotation(90)\n",
    "\n",
    "hcl.cax.set_position([1, 0.72, 0.02, .05])\n",
    "hcl.cax.set_yticklabels([str(i) for i in range(0,175,25)], fontsize=13)\n",
    "\n",
    "# default col_dendrogram is too high and ugly\n",
    "# manipulate the heith of the col_dendrogram\n",
    "# it is not easy\n",
    "col_den_pos = hcl.ax_col_dendrogram.get_position()\n",
    "hcl.ax_col_dendrogram.set_position([col_den_pos.x0,\n",
    "                                    col_den_pos.y0 * 0.95,\n",
    "                                    col_den_pos.width,\n",
    "                                    col_den_pos.height * 0.5])\n",
    "\n",
    "# to make the col_color shorter\n",
    "# the same way as the col_dendrogram\n",
    "col_color_pos = hcl.ax_col_colors.get_position()\n",
    "hcl.ax_col_colors.set_position([col_color_pos.x0,\n",
    "                                col_color_pos.y0,\n",
    "                                col_color_pos.width,\n",
    "                                col_color_pos.height * 0.5])\n",
    "\n",
    "# add a frame for the heatmap\n",
    "hcl.ax_heatmap.axhline(y=0, color='k', linewidth=2)\n",
    "hcl.ax_heatmap.axhline(y=41, color='k', linewidth=2)\n",
    "hcl.ax_heatmap.axvline(x=0, color='k', linewidth=2)\n",
    "hcl.ax_heatmap.axvline(x=12, color='k', linewidth=2)\n",
    "\n",
    "# # highlight some motifs of interests\n",
    "from matplotlib.patches import Rectangle\n",
    "\n",
    "# highlight T-box motifs\n",
    "hcl.ax_heatmap.add_patch(Rectangle((1,14), 1, 3, fill=False,\n",
    "                                   edgecolor='k', lw=1.5))\n",
    "hcl.ax_heatmap.add_patch(Rectangle((4,15), 1, 2, fill=False,\n",
    "                                   edgecolor='k', lw=1.5))\n",
    "\n",
    "# POU domain motif\n",
    "hcl.ax_heatmap.add_patch(Rectangle((7, 21), 1, 4, fill=False,\n",
    "                                   edgecolor='k', lw=1.5))\n",
    "# ETS:RUNX composite motif\n",
    "hcl.ax_heatmap.add_patch(Rectangle((0, 8), 5, 1, fill=False,\n",
    "                                   edgecolor='k', lw=1.5))\n",
    "# ETS and Tcf motif\n",
    "hcl.ax_heatmap.add_patch(Rectangle((0, 28), 1, 3, fill=False,\n",
    "                                   edgecolor='k', lw=1.5))\n",
    "# CEBP motif\n",
    "hcl.ax_heatmap.add_patch(Rectangle((10, 33), 2, 1, fill=False,\n",
    "                                   edgecolor='k', lw=1.5))\n",
    "# PU.1:IRF8 motif\n",
    "hcl.ax_heatmap.add_patch(Rectangle((9, 35), 3, 1, fill=False,\n",
    "                                   edgecolor='k', lw=1.5))\n",
    "hcl.savefig('figures/motifs_enrichments_heatmap.pdf',\n",
    "            bbox_inches='tight',\n",
    "            transparent=True)"
   ]
  },
  {
   "cell_type": "code",
   "execution_count": null,
   "metadata": {},
   "outputs": [],
   "source": []
  }
 ],
 "metadata": {
  "kernelspec": {
   "display_name": "Python 3",
   "language": "python",
   "name": "python3"
  },
  "language_info": {
   "codemirror_mode": {
    "name": "ipython",
    "version": 3
   },
   "file_extension": ".py",
   "mimetype": "text/x-python",
   "name": "python",
   "nbconvert_exporter": "python",
   "pygments_lexer": "ipython3",
   "version": "3.6.3"
  }
 },
 "nbformat": 4,
 "nbformat_minor": 2
}
